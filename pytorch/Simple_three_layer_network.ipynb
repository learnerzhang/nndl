{
 "cells": [
  {
   "cell_type": "markdown",
   "metadata": {},
   "source": [
    "### Three layer neural network with variable number of hidden units"
   ]
  },
  {
   "cell_type": "code",
   "execution_count": 6,
   "metadata": {},
   "outputs": [],
   "source": [
    "from __future__ import print_function\n",
    "import matplotlib.pyplot as plt\n",
    "import torch as th\n",
    "import numpy as np\n",
    "from torch.autograd import Variable\n",
    "\n",
    "\n",
    "def train(x, y, w1, w2, b1, b2):\n",
    "\n",
    "\toptimizer = th.optim.Adam([w1, w2, b1, b2], lr = 0.01)\n",
    "\n",
    "\tdef closure():\n",
    "\t\toptimizer.zero_grad()\n",
    "\t\thid = th.tanh(x.mm(w1) + b1.expand(x.size()[0], b1.size()[1]))\n",
    "\t\ty_pred = hid.mm(w2) + b2.expand(x.size()[0], b2.size()[1])\n",
    "\t\tloss = (y_pred - y).pow(2).sum()\n",
    "\t\tloss.backward()\n",
    "\t\treturn loss\n",
    "\n",
    "\tfor t in range(20000):\n",
    "\t\tif t % 1000 == 0:\n",
    "\t\t\tprint(t, closure().data[0])\n",
    "\t\toptimizer.step(closure)\n",
    "\n",
    "\n",
    "def forward(x, w1, w2, b1, b2):\n",
    "\thid = th.tanh(x.mm(w1) + b1.expand(x.size()[0], b1.size()[1]))\n",
    "\treturn hid.mm(w2) + b2.expand(x.size()[0], b2.size()[1])\n",
    "\n",
    "\n",
    "def get_variables(M):\n",
    "\tw1 = Variable(th.randn(1, M).type(th.FloatTensor), requires_grad=True)\n",
    "\tw2 = Variable(th.randn(M, 1).type(th.FloatTensor), requires_grad=True)\n",
    "\tb1 = Variable(th.zeros(1, M).type(th.FloatTensor), requires_grad=True)\n",
    "\tb2 = Variable(th.zeros(1, 1).type(th.FloatTensor), requires_grad=True)\n",
    "\treturn w1, w2, b1, b2\n"
   ]
  },
  {
   "cell_type": "code",
   "execution_count": 7,
   "metadata": {
    "scrolled": true
   },
   "outputs": [
    {
     "name": "stdout",
     "output_type": "stream",
     "text": [
      "0 5.20329141617\n",
      "1000 0.727499842644\n",
      "2000 0.694618046284\n",
      "3000 0.692631304264\n",
      "4000 0.692574679852\n",
      "5000 0.692573845387\n",
      "6000 0.692573845387\n",
      "7000 0.692573845387\n",
      "8000 0.692573904991\n",
      "9000 0.692574203014\n",
      "10000 0.692573964596\n",
      "11000 0.692573904991\n",
      "12000 0.692573964596\n",
      "13000 0.692573964596\n",
      "14000 0.692573904991\n",
      "15000 0.692573845387\n",
      "16000 0.692573904991\n",
      "17000 0.692573964596\n",
      "18000 0.692573845387\n",
      "19000 0.692626535892\n",
      "0 8.6924829483\n",
      "1000 0.206408783793\n",
      "2000 0.0744266733527\n",
      "3000 0.0528785400093\n",
      "4000 0.0456225126982\n",
      "5000 0.0423485040665\n",
      "6000 0.0392330177128\n",
      "7000 0.0352383963764\n",
      "8000 0.0312737934291\n",
      "9000 0.028588289395\n",
      "10000 0.0268693994731\n",
      "11000 0.0256840381771\n",
      "12000 0.0248183142394\n",
      "13000 0.0243049953133\n",
      "14000 0.0235327463597\n",
      "15000 0.0228341985494\n",
      "16000 0.0223071146756\n",
      "17000 0.0218144133687\n",
      "18000 0.0215762909502\n",
      "19000 0.0278392080218\n",
      "0 99.3952026367\n",
      "1000 0.203654840589\n",
      "2000 0.0541744753718\n",
      "3000 0.0097793629393\n",
      "4000 0.00324217788875\n",
      "5000 0.00161337421741\n",
      "6000 0.000908667512704\n",
      "7000 0.000536359031685\n",
      "8000 0.000916306918953\n",
      "9000 0.00021474865207\n",
      "10000 0.000142842254718\n",
      "11000 9.5382296422e-05\n",
      "12000 6.44410101813e-05\n",
      "13000 4.81745773868e-05\n",
      "14000 3.17502053804e-05\n",
      "15000 2.28604658332e-05\n",
      "16000 1.86527977348e-05\n",
      "17000 3.01264899463e-05\n",
      "18000 0.000256099709077\n",
      "19000 7.72356361267e-06\n"
     ]
    }
   ],
   "source": [
    "# Generate training data\n",
    "x = np.arange(0, np.pi * 2, np.pi / 5)\n",
    "tmp = np.array([1 if i % 2 == 0 else -1 for i in range(10)])\n",
    "y = np.sin(x) + tmp * np.abs(np.random.normal(0, 0.15, [10]))\n",
    "\n",
    "input_layer = Variable(th.from_numpy(x.reshape(x.shape + (1,))).type(th.FloatTensor), requires_grad=False)\n",
    "output_layer = Variable(th.from_numpy(y.reshape(y.shape + (1,))).type(th.FloatTensor), requires_grad=False)\n",
    "\n",
    "#init variables\n",
    "case1 = get_variables(1)\n",
    "case2 = get_variables(3)\n",
    "case3 = get_variables(10)\n",
    "\n",
    "\n",
    "train(input_layer, output_layer, *case1)\n",
    "train(input_layer, output_layer, *case2)\n",
    "train(input_layer, output_layer, *case3)\n"
   ]
  },
  {
   "cell_type": "code",
   "execution_count": 8,
   "metadata": {
    "scrolled": true
   },
   "outputs": [
    {
     "data": {
      "image/png": "[encoded data removed]",
      "text/plain": [
       "<matplotlib.figure.Figure at 0x7f19ad3edf90>"
      ]
     },
     "metadata": {},
     "output_type": "display_data"
    }
   ],
   "source": [
    "#predict\n",
    "ix = np.arange(0, np.pi * 2, np.pi / 100)\n",
    "ix2d = Variable(th.from_numpy(ix.reshape(ix.shape + (1,))).type(th.FloatTensor), requires_grad=False)\n",
    "y1 = forward(ix2d, *case1)\n",
    "y2 = forward(ix2d, *case2)\n",
    "y3 = forward(ix2d, *case3)\n",
    "\n",
    "#plot\n",
    "fig = plt.figure()\n",
    "ax1 = fig.add_subplot(1, 3, 1)\n",
    "ax2 = fig.add_subplot(1, 3, 2)\n",
    "ax3 = fig.add_subplot(1, 3, 3)\n",
    "ax1.plot(x, y, 'bx')\n",
    "ax1.plot(ix, y1.data.numpy()[:, 0], 'r')\n",
    "ax1.set_title(\"M = 1\")\n",
    "\n",
    "ax2.plot(x, y, 'bx')\n",
    "ax2.plot(ix, y2.data.numpy()[:, 0], 'r')\n",
    "ax2.set_title(\"M = 3\")\n",
    "\n",
    "ax3.plot(x, y, 'bx')\n",
    "ax3.plot(ix, y3.data.numpy()[:, 0], 'r')\n",
    "ax3.set_title(\"M = 10\")\n",
    "\n",
    "plt.show()"
   ]
  },
  {
   "cell_type": "code",
   "execution_count": null,
   "metadata": {
    "collapsed": true
   },
   "outputs": [],
   "source": []
  }
 ],
 "metadata": {
  "kernelspec": {
   "display_name": "Python 2",
   "language": "python",
   "name": "python2"
  },
  "language_info": {
   "codemirror_mode": {
    "name": "ipython",
    "version": 2
   },
   "file_extension": ".py",
   "mimetype": "text/x-python",
   "name": "python",
   "nbconvert_exporter": "python",
   "pygments_lexer": "ipython2",
   "version": "2.7.12"
  }
 },
 "nbformat": 4,
 "nbformat_minor": 2
}
