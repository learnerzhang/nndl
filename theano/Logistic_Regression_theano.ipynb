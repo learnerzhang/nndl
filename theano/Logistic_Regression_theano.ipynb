{
 "cells": [
  {
   "cell_type": "code",
   "execution_count": 1,
   "metadata": {
    "collapsed": false
   },
   "outputs": [
    {
     "name": "stderr",
     "output_type": "stream",
     "text": [
      "/usr/lib64/python2.7/site-packages/matplotlib/collections.py:590: FutureWarning: elementwise comparison failed; returning scalar instead, but in the future will perform elementwise comparison\n",
      "  if self._edgecolors == str('face'):\n"
     ]
    },
    {
     "data": {
      "image/png": "[encoded data removed]",
      "text/plain": [
       "<matplotlib.figure.Figure at 0x7f36b80b5990>"
      ]
     },
     "metadata": {},
     "output_type": "display_data"
    }
   ],
   "source": [
    "import theano\n",
    "import theano.tensor as T\n",
    "import theano.tensor.nnet as NN\n",
    "#three most useful packages in theano\n",
    "\n",
    "import numpy as NP\n",
    "import numpy.random as RNG\n",
    "%matplotlib inline\n",
    "import matplotlib.pyplot as plt\n",
    "dot_num = 100\n",
    "x_p = NP.random.normal(3., 1, dot_num)\n",
    "y_p = NP.random.normal(6., 1, dot_num)\n",
    "label_p = NP.ones(dot_num)\n",
    "\n",
    "x_n = NP.random.normal(6., 1, dot_num)\n",
    "y_n = NP.random.normal(3., 1, dot_num)\n",
    "label_n = NP.zeros(dot_num)\n",
    "\n",
    "X_p = NP.stack([x_p,y_p]).transpose(1,0)\n",
    "X_n = NP.stack([x_n,y_n]).transpose(1,0)\n",
    "X_data = NP.concatenate([X_p,X_n])\n",
    "y_data = NP.concatenate([label_p,label_n])\n",
    "\n",
    "plt.scatter(X_p[:,0], X_p[:,1], c='b', marker='+')\n",
    "plt.scatter(X_n[:,0], X_n[:,1], c='g', marker='o')\n",
    "plt.xlim(0,10)\n",
    "plt.ylim(0,10)\n",
    "def shuffle(x,y):\n",
    "    p = RNG.permutation(len(x))\n",
    "    return x[p], y[p]\n",
    "\n",
    "X_data, y_data = shuffle(X_data, y_data)"
   ]
  },
  {
   "cell_type": "code",
   "execution_count": 2,
   "metadata": {
    "collapsed": false
   },
   "outputs": [
    {
     "name": "stderr",
     "output_type": "stream",
     "text": [
      "WARNING (theano.tensor.blas): We did not found a dynamic library into the library_dir of the library we use for blas. If you use ATLAS, make sure to compile it with dynamics library.\n"
     ]
    },
    {
     "name": "stdout",
     "output_type": "stream",
     "text": [
      "COMPILE DONE\n"
     ]
    }
   ],
   "source": [
    "lr = 1e-2 #learning rate\n",
    "\n",
    "#define inputs\n",
    "x=T.matrix()\n",
    "labels=T.vector()\n",
    "\n",
    "#define parameters\n",
    "W=theano.shared(RNG.uniform(-0.05, 0.05, size=(2,1)))\n",
    "b=theano.shared(NP.zeros((1,)))\n",
    "params = [W, b]\n",
    "\n",
    "#build the equation \n",
    "y_hat = NN.sigmoid(T.dot(x, W)+b)\n",
    "\n",
    "#define the loss\n",
    "loss = T.mean(NN.binary_crossentropy(y_hat,labels[:,None]))\n",
    "\n",
    "#calculate the gradient \n",
    "grads = theano.grad(loss, params)\n",
    "\n",
    "#gradient descent \n",
    "param_update = []\n",
    "for p,g in zip(params, grads):\n",
    "    param_update.append((p, p-lr*g))\n",
    "    \n",
    "#compile the theano function\n",
    "train_func = theano.function([x, labels], [loss, y_hat], updates=param_update, allow_input_downcast=True)\n",
    "print 'COMPILE DONE'"
   ]
  },
  {
   "cell_type": "code",
   "execution_count": 3,
   "metadata": {
    "collapsed": false
   },
   "outputs": [
    {
     "data": {
      "text/plain": [
       "<matplotlib.legend.Legend at 0x7f36ca158d10>"
      ]
     },
     "execution_count": 3,
     "metadata": {},
     "output_type": "execute_result"
    },
    {
     "data": {
      "image/png": "[encoded data removed]",
      "text/plain": [
       "<matplotlib.figure.Figure at 0x7f36ca1a5750>"
      ]
     },
     "metadata": {},
     "output_type": "display_data"
    }
   ],
   "source": [
    "print_flag = False #if you want details of trainning, just enable this flag\n",
    "fig = plt.figure(figsize=(10,10))\n",
    "plt.scatter(X_p[:,0], X_p[:,1], c='b', marker='+')\n",
    "plt.scatter(X_n[:,0], X_n[:,1], c='g', marker='o')\n",
    "\n",
    "for i in xrange(50):\n",
    "    cost, n_out = train_func(X_data, y_data)\n",
    "    if i==0:\n",
    "        plt.plot(X_data[:,0], -1.0*b.get_value()-1.0*W.get_value()[0]/W.get_value()[1]*X_data[:,0])\n",
    "    if print_flag:\n",
    "        print 'loss={0:.4f}\\tW={1:.4f};{2:.4f}   \\tb={3:.4f}'.format(cost.tolist(), W.get_value()[0][0], W.get_value()[1][0], b.get_value()[0])\n",
    "\n",
    "plt.plot(X_data[:,0], -1.0*b.get_value()-1.0*W.get_value()[0]/W.get_value()[1]*X_data[:,0])\n",
    "plt.xlim(0,10)\n",
    "plt.ylim(0,10)\n",
    "plt.legend(['init', 'trained'])"
   ]
  },
  {
   "cell_type": "code",
   "execution_count": null,
   "metadata": {
    "collapsed": true
   },
   "outputs": [],
   "source": []
  }
 ],
 "metadata": {
  "kernelspec": {
   "display_name": "Python 2",
   "language": "python",
   "name": "python2"
  },
  "language_info": {
   "codemirror_mode": {
    "name": "ipython",
    "version": 2
   },
   "file_extension": ".py",
   "mimetype": "text/x-python",
   "name": "python",
   "nbconvert_exporter": "python",
   "pygments_lexer": "ipython2",
   "version": "2.7.10"
  }
 },
 "nbformat": 4,
 "nbformat_minor": 0
}
